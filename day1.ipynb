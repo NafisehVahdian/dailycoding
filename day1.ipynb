{
 "cells": [
  {
   "cell_type": "code",
   "execution_count": 1,
   "id": "26a22956-e40b-4b49-a84d-e998664d495a",
   "metadata": {},
   "outputs": [
    {
     "name": "stdout",
     "output_type": "stream",
     "text": [
      "23:41\n"
     ]
    }
   ],
   "source": [
    "from itertools import permutations\n",
    "\n",
    "def largest_time_from_digits(arr):\n",
    "    max_time = -1\n",
    "    # Generate all permutations of arr\n",
    "    for perm in permutations(arr):\n",
    "        hours = perm[0] * 10 + perm[1]\n",
    "        minutes = perm[2] * 10 + perm[3]\n",
    "        # Check if it forms a valid time\n",
    "        if 0 <= hours < 24 and 0 <= minutes < 60:\n",
    "            # Convert time to minutes and check if it's the largest found so far\n",
    "            total_minutes = hours * 60 + minutes\n",
    "            max_time = max(max_time, total_minutes)\n",
    "    \n",
    "    # If no valid time was found\n",
    "    if max_time == -1:\n",
    "        return \"\"\n",
    "    \n",
    "    # Convert max_time back to HH:MM format\n",
    "    max_hours = max_time // 60\n",
    "    max_minutes = max_time % 60\n",
    "    return f\"{max_hours:02}:{max_minutes:02}\"\n",
    "\n"
   ]
  },
  {
   "cell_type": "code",
   "execution_count": null,
   "id": "bb168c9c-d2c7-4577-91a9-9584a33d654c",
   "metadata": {},
   "outputs": [],
   "source": []
  }
 ],
 "metadata": {
  "kernelspec": {
   "display_name": "Python 3 (ipykernel)",
   "language": "python",
   "name": "python3"
  },
  "language_info": {
   "codemirror_mode": {
    "name": "ipython",
    "version": 3
   },
   "file_extension": ".py",
   "mimetype": "text/x-python",
   "name": "python",
   "nbconvert_exporter": "python",
   "pygments_lexer": "ipython3",
   "version": "3.10.12"
  }
 },
 "nbformat": 4,
 "nbformat_minor": 5
}
